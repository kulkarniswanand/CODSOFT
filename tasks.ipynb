{
 "cells": [
  {
   "cell_type": "code",
   "execution_count": 29,
   "id": "9fcd7537-eaa7-4a7e-b67b-55ce8372cf31",
   "metadata": {
    "collapsed": true,
    "jupyter": {
     "outputs_hidden": true,
     "source_hidden": true
    }
   },
   "outputs": [
    {
     "name": "stdout",
     "output_type": "stream",
     "text": [
      "Enter two numbers 8 3\n"
     ]
    },
    {
     "name": "stdout",
     "output_type": "stream",
     "text": [
      "------------------------------------\n",
      "1.Addition\n",
      "2.substraction\n",
      "3.Multiplication\n",
      "4.Division\n",
      "------------------------------------\n"
     ]
    },
    {
     "name": "stdout",
     "output_type": "stream",
     "text": [
      "Enter your choice: 2\n"
     ]
    },
    {
     "name": "stdout",
     "output_type": "stream",
     "text": [
      "Substraction is: 5\n"
     ]
    }
   ],
   "source": [
    "# calculator program\n",
    "\n",
    "def calculate(a,b,choice):\n",
    "    if(choice==1):\n",
    "        c=a+b\n",
    "        print(\"Addition is:\",c)\n",
    "    elif(choice==2):\n",
    "        c=a-b\n",
    "        print(\"Substraction is:\",c)\n",
    "    elif(choice==3):\n",
    "        c=a*b\n",
    "        print(\"Multiplication is:\",c)\n",
    "    elif(choice==4):\n",
    "        c=a/b\n",
    "        print(\"Division is\",c)\n",
    "    else:\n",
    "        return 0\n",
    "\n",
    "a,b=map(int, input(\"Enter two numbers\").split())\n",
    "print(\"------------------------------------\")\n",
    "print(\"1.Addition\")\n",
    "print(\"2.substraction\")\n",
    "print(\"3.Multiplication\")\n",
    "print(\"4.Division\")\n",
    "print(\"------------------------------------\")\n",
    "choice=int(input(\"Enter your choice:\"))\n",
    "calculate(a,b,choice)\n",
    "\n",
    "    "
   ]
  },
  {
   "cell_type": "code",
   "execution_count": null,
   "id": "3b9506a0",
   "metadata": {},
   "outputs": [],
   "source": []
  },
  {
   "cell_type": "code",
   "execution_count": 60,
   "id": "a966d2fc-9980-42c5-a18e-4b1c1c60c646",
   "metadata": {
    "collapsed": true,
    "jupyter": {
     "outputs_hidden": true
    }
   },
   "outputs": [
    {
     "name": "stdout",
     "output_type": "stream",
     "text": [
      "1.rock\n",
      "2.scissor\n",
      "3.paper\n"
     ]
    },
    {
     "name": "stdout",
     "output_type": "stream",
     "text": [
      "Enter your choice: 1\n"
     ]
    },
    {
     "name": "stdout",
     "output_type": "stream",
     "text": [
      "user choice:rock and computer choice:paper\n",
      "computer win!!\n"
     ]
    },
    {
     "name": "stdout",
     "output_type": "stream",
     "text": [
      "Do you want to continue: y\n"
     ]
    },
    {
     "name": "stdout",
     "output_type": "stream",
     "text": [
      "1.rock\n",
      "2.scissor\n",
      "3.paper\n"
     ]
    },
    {
     "name": "stdout",
     "output_type": "stream",
     "text": [
      "Enter your choice: 3\n"
     ]
    },
    {
     "name": "stdout",
     "output_type": "stream",
     "text": [
      "user choice:paper and computer choice:rpck\n",
      "you win!!\n"
     ]
    },
    {
     "name": "stdout",
     "output_type": "stream",
     "text": [
      "Do you want to continue: 2\n"
     ]
    },
    {
     "name": "stdout",
     "output_type": "stream",
     "text": [
      "1.rock\n",
      "2.scissor\n",
      "3.paper\n"
     ]
    },
    {
     "name": "stdout",
     "output_type": "stream",
     "text": [
      "Enter your choice: 2\n"
     ]
    },
    {
     "name": "stdout",
     "output_type": "stream",
     "text": [
      "user choice:scissor and computer choice:paper\n",
      "you win!!\n"
     ]
    },
    {
     "name": "stdout",
     "output_type": "stream",
     "text": [
      "Do you want to continue: n\n"
     ]
    }
   ],
   "source": [
    "import random\n",
    "def game(choice,cchoice):\n",
    "    if(choice==cchoice+1):\n",
    "        print(\"tie\")\n",
    "    elif(choice==1):\n",
    "        if(cchoice==1):\n",
    "            print(\"user choice:rock and computer choice:scissor\")\n",
    "            print(\"You win!!\")\n",
    "        else:\n",
    "            print(\"user choice:rock and computer choice:paper\")\n",
    "            print(\"computer win!!\")\n",
    "    elif(choice==2):\n",
    "         if(cchoice==0):\n",
    "            print(\"user choice:scissor and computer choice:paper\")\n",
    "            print(\"you win!!\")\n",
    "         else:\n",
    "            print(\"user choice:scissor and computer choice:rock\")\n",
    "            print(\"computer win!!\")\n",
    "    elif(choice==3):\n",
    "         if(cchoice==1):\n",
    "            print(\"user choice:paper and computer choice:rpck\")\n",
    "            print(\"you win!!\")\n",
    "         else:\n",
    "            print(\"user choice:paper and computer choice:scissor\")\n",
    "            print(\"computer win!!\")\n",
    "    else:\n",
    "        print(\"error\")\n",
    "\n",
    "        \n",
    "        \n",
    "     \n",
    "\n",
    "i='y'\n",
    "while i !='n':\n",
    "    print(\"1.rock\")\n",
    "    print(\"2.scissor\")\n",
    "    print(\"3.paper\")\n",
    "    list=['rock','scissor','paper']\n",
    "    choice=int(input(\"Enter your choice:\"))\n",
    "    cchoice=int(random.random() * len(list))\n",
    "    game(choice,cchoice)\n",
    "    i=input(\"Do you want to continue:\")\n",
    "    \n",
    "\n",
    "\n",
    "\n"
   ]
  },
  {
   "cell_type": "code",
   "execution_count": 49,
   "id": "bcc574a8-eff2-4578-9d31-7f8c120320b1",
   "metadata": {
    "collapsed": true,
    "jupyter": {
     "outputs_hidden": true,
     "source_hidden": true
    }
   },
   "outputs": [
    {
     "name": "stdout",
     "output_type": "stream",
     "text": [
      "1.rock\n",
      "2.scissor\n",
      "3.paper\n"
     ]
    },
    {
     "name": "stdout",
     "output_type": "stream",
     "text": [
      "Enter your choice: 2\n"
     ]
    },
    {
     "name": "stdout",
     "output_type": "stream",
     "text": [
      "1\n"
     ]
    }
   ],
   "source": [
    "    print(\"1.rock\")\n",
    "    print(\"2.scissor\")\n",
    "    print(\"3.paper\")\n",
    "    list=['rock','scissor','paper']\n",
    "    choice=int(input(\"Enter your choice:\"))\n",
    "    cchoice=int(random.random() * len(list))\n",
    "    print(cchoice)\n",
    "   "
   ]
  },
  {
   "cell_type": "code",
   "execution_count": 21,
   "id": "1d52a4d2-32f1-441c-82db-c94b91cad296",
   "metadata": {},
   "outputs": [
    {
     "name": "stdout",
     "output_type": "stream",
     "text": [
      "Enter length for your password: 9\n"
     ]
    },
    {
     "name": "stdout",
     "output_type": "stream",
     "text": [
      "huktmsloz\n"
     ]
    }
   ],
   "source": [
    "import random\n",
    "a=int(input(\"Enter length for your password:\"))\n",
    "list=['a','b','c','d','e','f','g','h','i','j','k','l','m','n','o','p','q','r','s','t','u','v','w','x','y','z']\n",
    "pas=[]\n",
    "for i in range(0,a):\n",
    "    char=int(random.random() * len(list))\n",
    "    pas.append(list[char])\n",
    "\n",
    "print(''.join(pas))\n",
    "    \n",
    "    \n",
    "    \n"
   ]
  },
  {
   "cell_type": "code",
   "execution_count": null,
   "id": "4335bfa3-ec9a-4189-8961-b3b9ce6c82a4",
   "metadata": {},
   "outputs": [],
   "source": []
  }
 ],
 "metadata": {
  "kernelspec": {
   "display_name": "Python 3 (ipykernel)",
   "language": "python",
   "name": "python3"
  },
  "language_info": {
   "codemirror_mode": {
    "name": "ipython",
    "version": 3
   },
   "file_extension": ".py",
   "mimetype": "text/x-python",
   "name": "python",
   "nbconvert_exporter": "python",
   "pygments_lexer": "ipython3",
   "version": "3.12.0"
  }
 },
 "nbformat": 4,
 "nbformat_minor": 5
}
